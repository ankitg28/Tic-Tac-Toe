{
 "cells": [
  {
   "cell_type": "markdown",
   "id": "99db6c0b",
   "metadata": {},
   "source": [
    "<b>This notebook enables two players to play the Tic Tac Toe game.</b>\n",
    "\n",
    "Players will be asked to input positions between 1 to 9 to mark X and O in the board. Here is the visual representation of the positions for your reference:\n",
    "\n",
    "    7 | 8 | 9\n",
    "      |   |\n",
    "     --------\n",
    "    4 | 5 | 6\n",
    "      |   |\n",
    "     --------\n",
    "    1 | 2 | 3\n",
    "      |   |\n"
   ]
  },
  {
   "cell_type": "code",
   "execution_count": 1,
   "id": "4e912f64",
   "metadata": {},
   "outputs": [],
   "source": [
    "from IPython.display import clear_output # This is required to clean the previous output to get the update board.\n",
    "\n",
    "# function to display the board\n",
    "def display_board(board):\n",
    "    clear_output() # This works only in Jupyter Notebook\n",
    "    print('  | ' + '  | ')\n",
    "    print(board[7] + ' | ' + board[8] + ' | ' + board[9])\n",
    "    print('  | ' + '  | ')\n",
    "    print('----------')\n",
    "    print('  | ' + '  | ')\n",
    "    print(board[4] + ' | ' + board[5] + ' | ' + board[6])\n",
    "    print('  | ' + '  | ')\n",
    "    print('----------')\n",
    "    print('  | ' + '  | ')\n",
    "    print(board[1] + ' | ' + board[2] + ' | ' + board[3])\n",
    "    print('  | ' + '  | ')"
   ]
  },
  {
   "cell_type": "code",
   "execution_count": 2,
   "id": "f36e2a3b",
   "metadata": {},
   "outputs": [],
   "source": [
    "# function to assign the markers 'X' and 'O' to players\n",
    "def player_input(player1_name):\n",
    "    check = True\n",
    "    while check:\n",
    "        marker = input('Please pick a marker '+ player1_name + \" 'X' or 'O'\").upper()\n",
    "        if marker == 'X' or marker == 'O':\n",
    "            check = False \n",
    "    if(marker == 'X'):\n",
    "        return ('X','O')\n",
    "    else:\n",
    "        return ('O','X')"
   ]
  },
  {
   "cell_type": "code",
   "execution_count": 3,
   "id": "d30c0e38",
   "metadata": {},
   "outputs": [],
   "source": [
    "# function to write the marker on the board\n",
    "def place_marker(board, marker, position):\n",
    "    board[position] = marker"
   ]
  },
  {
   "cell_type": "code",
   "execution_count": 4,
   "id": "767e7c8a",
   "metadata": {},
   "outputs": [],
   "source": [
    "# function to check if a player has won after an input\n",
    "def win_check(board, mark):\n",
    "    return((board[1] == mark and board[2] == mark and board[3] == mark) or #check row 3\n",
    "    (board[4] == mark and board[5] == mark and board[6] == mark) or #check row 2\n",
    "    (board[7] == mark and board[8] == mark and board[9] == mark) or #check row 1\n",
    "    (board[3] == mark and board[6] == mark and board[9] == mark) or #check column 3\n",
    "    (board[2] == mark and board[5] == mark and board[8] == mark) or #check column 3\n",
    "    (board[1] == mark and board[4] == mark and board[7] == mark) or #check column 3\n",
    "    (board[7] == mark and board[5] == mark and board[3] == mark) or #check diagonal 1\n",
    "    (board[1] == mark and board[5] == mark and board[9] == mark)) #check diagonal 2\n"
   ]
  },
  {
   "cell_type": "code",
   "execution_count": 5,
   "id": "f3869a7c",
   "metadata": {},
   "outputs": [],
   "source": [
    "import random\n",
    "# function to randomly decide which player will go first\n",
    "def choose_first():\n",
    "    if random.randint(1,2) == 1:\n",
    "        return 'Player 1'\n",
    "    else:\n",
    "        return 'Player 2'"
   ]
  },
  {
   "cell_type": "code",
   "execution_count": 6,
   "id": "5210dbce",
   "metadata": {},
   "outputs": [],
   "source": [
    "# function to check if the input position is vacant or occupied\n",
    "def space_check(board, position):\n",
    "    if board[position] == 'X' or board[position] == 'O':\n",
    "        return False\n",
    "    else:\n",
    "        return True"
   ]
  },
  {
   "cell_type": "code",
   "execution_count": 7,
   "id": "cacb646f",
   "metadata": {},
   "outputs": [],
   "source": [
    "# function to check if all the 9 cells are occupied by markers\n",
    "def full_board_check(board):\n",
    "    for i in range(1,10):\n",
    "        if space_check(board, i):\n",
    "            return False\n",
    "    return True"
   ]
  },
  {
   "cell_type": "code",
   "execution_count": 8,
   "id": "4a2a634c",
   "metadata": {},
   "outputs": [],
   "source": [
    "# function to take player input for position and place their markers\n",
    "def player_choice(board):\n",
    "    position = 0\n",
    "    while position not in [1,2,3,4,5,6,7,8,9] or not space_check(board, position):\n",
    "        try:\n",
    "            position = int(input('Please enter a number(1-9)'))\n",
    "        except:\n",
    "            print('Please enter a valid number')\n",
    "    return position\n",
    "    "
   ]
  },
  {
   "cell_type": "code",
   "execution_count": 9,
   "id": "a2289802",
   "metadata": {},
   "outputs": [],
   "source": [
    "# function to ask to replay the game\n",
    "def replay():\n",
    "    play = input('Do you want to play again[Y/N]')\n",
    "    if play.upper() == 'Y':\n",
    "        return True\n",
    "    else:\n",
    "        return False"
   ]
  },
  {
   "cell_type": "code",
   "execution_count": 10,
   "id": "3981ecc2",
   "metadata": {},
   "outputs": [
    {
     "name": "stdout",
     "output_type": "stream",
     "text": [
      "  |   | \n",
      "X |   |  \n",
      "  |   | \n",
      "----------\n",
      "  |   | \n",
      "O | X | O\n",
      "  |   | \n",
      "----------\n",
      "  |   | \n",
      "X | O | X\n",
      "  |   | \n",
      "Congratulations Ankit! You have won the game!\n",
      "Do you want to play again[Y/N]8\n"
     ]
    }
   ],
   "source": [
    "print('Welcome to Tic Tac Toe!')\n",
    "# This will start the game and make use of the functions defined above\n",
    "while True:\n",
    "    # Set the game up here\n",
    "    theBoard = [' ']*10\n",
    "    player1_name = input('Player 1 please enter your name')\n",
    "    player2_name = input ('Player 2 please enter your name')\n",
    "    player1_marker,player2_marker = player_input(player1_name)\n",
    "    turn = choose_first()\n",
    "    if turn == 'Player 1':\n",
    "        print(player1_name + ' will go first')\n",
    "    else:\n",
    "        print(player2_name + ' will go first')\n",
    "    \n",
    "    play_game = input('Shall we begin? Yes or No')\n",
    "\n",
    "    if play_game.upper()[0] == 'Y':\n",
    "        game_on = True\n",
    "    else:\n",
    "        game_on = False\n",
    "\n",
    "    while game_on:\n",
    "        if turn == 'Player 1':\n",
    "            # Player1's turn.\n",
    "            \n",
    "            display_board(theBoard)\n",
    "            position = player_choice(theBoard)\n",
    "            place_marker(theBoard, player1_marker, position)\n",
    "\n",
    "            if win_check(theBoard, player1_marker):\n",
    "                display_board(theBoard)\n",
    "                print('Congratulations '+ player1_name +'! You have won the game!')\n",
    "                game_on = False\n",
    "            else:\n",
    "                if full_board_check(theBoard):\n",
    "                    display_board(theBoard)\n",
    "                    print('The game is a draw!')\n",
    "                    break\n",
    "                else:\n",
    "                    turn = 'Player 2'\n",
    "\n",
    "        else:\n",
    "            # Player2's turn.\n",
    "            \n",
    "            display_board(theBoard)\n",
    "            position = player_choice(theBoard)\n",
    "            place_marker(theBoard, player2_marker, position)\n",
    "\n",
    "            if win_check(theBoard, player2_marker):\n",
    "                display_board(theBoard)\n",
    "                print('Congratulations '+ player2_name +'! You have won the game!')\n",
    "                game_on = False\n",
    "            else:\n",
    "                if full_board_check(theBoard):\n",
    "                    display_board(theBoard)\n",
    "                    print('The game is a draw!')\n",
    "                    break\n",
    "                else:\n",
    "                    turn = 'Player 1'\n",
    "\n",
    "    if not replay():\n",
    "        break"
   ]
  },
  {
   "cell_type": "code",
   "execution_count": null,
   "id": "5cb04011",
   "metadata": {},
   "outputs": [],
   "source": []
  }
 ],
 "metadata": {
  "kernelspec": {
   "display_name": "Python 3 (ipykernel)",
   "language": "python",
   "name": "python3"
  },
  "language_info": {
   "codemirror_mode": {
    "name": "ipython",
    "version": 3
   },
   "file_extension": ".py",
   "mimetype": "text/x-python",
   "name": "python",
   "nbconvert_exporter": "python",
   "pygments_lexer": "ipython3",
   "version": "3.9.7"
  }
 },
 "nbformat": 4,
 "nbformat_minor": 5
}
